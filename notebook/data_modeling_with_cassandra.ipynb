{
 "cells": [
  {
   "cell_type": "markdown",
   "metadata": {},
   "source": [
    "<center><h1><b>No SQL Data Modeling Using Cassandra and Python</b></h1></center>\n",
    "\n",
    "![cassandra](https://miro.medium.com/max/700/1*xlRpJixAInrMlIhn5KINgA.jpeg)"
   ]
  },
  {
   "cell_type": "markdown",
   "metadata": {},
   "source": [
    "# *1. ETL Pipeline for PreProcessing Data*"
   ]
  },
  {
   "cell_type": "markdown",
   "metadata": {},
   "source": [
    "# *Run the following code to Preprocess the file*"
   ]
  },
  {
   "cell_type": "code",
   "execution_count": 56,
   "metadata": {},
   "outputs": [],
   "source": [
    "# import the required package\n",
    "import pandas as pd\n",
    "import os\n",
    "import glob\n",
    "import csv"
   ]
  },
  {
   "cell_type": "markdown",
   "metadata": {},
   "source": [
    "## value is list of data that we have to fetch from event_data"
   ]
  },
  {
   "cell_type": "code",
   "execution_count": 15,
   "metadata": {},
   "outputs": [],
   "source": [
    "value=['artist','firstName','gender','itemInSession','lastName','length',\\\n",
    "                'level','location','sessionId','song','userId'] "
   ]
  },
  {
   "cell_type": "code",
   "execution_count": 59,
   "metadata": {},
   "outputs": [
    {
     "name": "stdout",
     "output_type": "stream",
     "text": [
      "/home/devil/Desktop/work/data_enginerr/data_modeling/event_data\n"
     ]
    }
   ],
   "source": [
    "# This will give us the current working directory and we will add then ouer required directory path ie. 'event_data'\n",
    "path = os.getcwd() + '/event_data'\n",
    "print(path)"
   ]
  },
  {
   "cell_type": "code",
   "execution_count": 60,
   "metadata": {},
   "outputs": [
    {
     "name": "stdout",
     "output_type": "stream",
     "text": [
      "/home/devil/Desktop/work/data_enginerr/data_modeling/event_data/2018-11-06-events.csv\n",
      "/home/devil/Desktop/work/data_enginerr/data_modeling/event_data/2018-11-29-events.csv\n",
      "/home/devil/Desktop/work/data_enginerr/data_modeling/event_data/2018-11-23-events.csv\n",
      "/home/devil/Desktop/work/data_enginerr/data_modeling/event_data/2018-11-30-events.csv\n",
      "/home/devil/Desktop/work/data_enginerr/data_modeling/event_data/2018-11-17-events.csv\n",
      "/home/devil/Desktop/work/data_enginerr/data_modeling/event_data/2018-11-24-events.csv\n",
      "/home/devil/Desktop/work/data_enginerr/data_modeling/event_data/2018-11-02-events.csv\n",
      "/home/devil/Desktop/work/data_enginerr/data_modeling/event_data/2018-11-26-events.csv\n",
      "/home/devil/Desktop/work/data_enginerr/data_modeling/event_data/2018-11-28-events.csv\n",
      "/home/devil/Desktop/work/data_enginerr/data_modeling/event_data/2018-11-19-events.csv\n",
      "/home/devil/Desktop/work/data_enginerr/data_modeling/event_data/2018-11-20-events.csv\n",
      "/home/devil/Desktop/work/data_enginerr/data_modeling/event_data/2018-11-25-events.csv\n",
      "/home/devil/Desktop/work/data_enginerr/data_modeling/event_data/2018-11-27-events.csv\n",
      "/home/devil/Desktop/work/data_enginerr/data_modeling/event_data/2018-11-09-events.csv\n",
      "/home/devil/Desktop/work/data_enginerr/data_modeling/event_data/2018-11-18-events.csv\n",
      "/home/devil/Desktop/work/data_enginerr/data_modeling/event_data/2018-11-10-events.csv\n",
      "/home/devil/Desktop/work/data_enginerr/data_modeling/event_data/2018-11-05-events.csv\n",
      "/home/devil/Desktop/work/data_enginerr/data_modeling/event_data/2018-11-14-events.csv\n",
      "/home/devil/Desktop/work/data_enginerr/data_modeling/event_data/2018-11-11-events.csv\n",
      "/home/devil/Desktop/work/data_enginerr/data_modeling/event_data/2018-11-12-events.csv\n",
      "/home/devil/Desktop/work/data_enginerr/data_modeling/event_data/2018-11-22-events.csv\n",
      "/home/devil/Desktop/work/data_enginerr/data_modeling/event_data/2018-11-03-events.csv\n",
      "/home/devil/Desktop/work/data_enginerr/data_modeling/event_data/2018-11-08-events.csv\n",
      "/home/devil/Desktop/work/data_enginerr/data_modeling/event_data/2018-11-07-events.csv\n",
      "/home/devil/Desktop/work/data_enginerr/data_modeling/event_data/2018-11-21-events.csv\n",
      "/home/devil/Desktop/work/data_enginerr/data_modeling/event_data/2018-11-13-events.csv\n",
      "/home/devil/Desktop/work/data_enginerr/data_modeling/event_data/2018-11-16-events.csv\n",
      "/home/devil/Desktop/work/data_enginerr/data_modeling/event_data/2018-11-01-events.csv\n",
      "/home/devil/Desktop/work/data_enginerr/data_modeling/event_data/2018-11-15-events.csv\n",
      "/home/devil/Desktop/work/data_enginerr/data_modeling/event_data/2018-11-04-events.csv\n"
     ]
    }
   ],
   "source": [
    "# this code will extract all the file path inside given directory ending with '.csv'\n",
    "file_path_list = []\n",
    "for file in glob.glob(path+'/*.csv'):\n",
    "    file_path_list.append(file)\n",
    "    print(file)"
   ]
  },
  {
   "cell_type": "code",
   "execution_count": 72,
   "metadata": {},
   "outputs": [],
   "source": [
    "# initiating an empty list of rows that will be generated from each file\n",
    "full_data_row = []\n",
    "\n",
    "# for every filepath in the file path list \n",
    "for f in file_path_list:\n",
    "    \n",
    "# reading csv file \n",
    "    with open(f,'r',encoding='utf',newline='') as csv_file:\n",
    "        csvreader = csv.reader(csv_file)\n",
    "        next(csvreader)\n",
    "        \n",
    "# extracting each data row one by one and append it \n",
    "        for line in csvreader:\n",
    "            full_data_row.append(line)\n",
    "# print full data row\n",
    "# print(full_data_row)\n",
    "\n",
    "# creating a smaller event data csv file called new_event_data.csv that will be used to insert data into the \\\n",
    "# Apache Cassandra tables\n",
    "csv.register_dialect('myDialect',quoting=csv.QUOTE_ALL,skipinitialspace=True)\n",
    "with open('new_event_data.csv','w',encoding='utf',newline='') as f:\n",
    "    writer = csv.writer(f,dialect='myDialect')\n",
    "    writer.writerow(value)\n",
    "    for row in full_data_row:\n",
    "        if row[0]=='':\n",
    "            continue\n",
    "        writer.writerow((row[0], row[2], row[3], row[4], row[5], row[6], row[7], row[8], row[12], row[13], row[16]))"
   ]
  },
  {
   "cell_type": "markdown",
   "metadata": {},
   "source": [
    "# *Part 2.  Apache Cassandra coding portion of our project* \n",
    "\n",
    "## *Now you are ready to work with the CSV file titled <font color=red>new_event_data.csv</font>, located within the Workspace directory.  The event_datafile_new.csv contains the following columns*: \n",
    "- artist \n",
    "- firstName of user\n",
    "- gender of user\n",
    "- item number in session\n",
    "- last name of user\n",
    "- length of the song\n",
    "- level (paid or free song)\n",
    "- location of the user\n",
    "- sessionId\n",
    "- song title\n",
    "- userId\n",
    "\n",
    "The image below is a screenshot of what the denormalized data should appear like in the <font color=red>**new_event_data.csv**</font> after the code above is run:<br>\n",
    "\n",
    "<img src=\"image/download.png\">"
   ]
  },
  {
   "cell_type": "code",
   "execution_count": 64,
   "metadata": {},
   "outputs": [],
   "source": [
    "import cassandra\n",
    "from cassandra.cluster import Cluster"
   ]
  },
  {
   "cell_type": "code",
   "execution_count": 73,
   "metadata": {},
   "outputs": [],
   "source": [
    "# This should make a connection to a Cassandra instance our local machine \n",
    "# (127.0.0.1)\n",
    "try:\n",
    "    cluster = Cluster(['127.0.0.1'])\n",
    "    session = cluster.connect()\n",
    "except Exception as e:\n",
    "    print(f'Error is : {e}')"
   ]
  },
  {
   "cell_type": "code",
   "execution_count": 78,
   "metadata": {},
   "outputs": [],
   "source": [
    "# TO-DO: Create a Keyspace\n",
    "try:\n",
    "    session.execute('''\n",
    "CREATE KEYSPACE IF NOT EXISTS sparkifydb\n",
    "WITH REPLICATION = \n",
    "{'class':'SimpleStrategy','replication_factor':1}\n",
    "''')\n",
    "except Exception as e:\n",
    "    print(f'Error is: {e}')"
   ]
  },
  {
   "cell_type": "code",
   "execution_count": 80,
   "metadata": {},
   "outputs": [],
   "source": [
    "# TO-DO: Set KEYSPACE to the keyspace specified above\n",
    "\n",
    "try:\n",
    "    session.set_keyspace('sparkifydb')\n",
    "except Exception as e:\n",
    "    print(f'Error is: {e}')"
   ]
  },
  {
   "cell_type": "markdown",
   "metadata": {},
   "source": [
    "### Now we need to create tables to run the following queries. Remember, with Apache Cassandra you model the database tables on the queries you want to run."
   ]
  },
  {
   "cell_type": "markdown",
   "metadata": {},
   "source": [
    "## Create queries to ask the following three questions of the data\n",
    "\n",
    "### 1. Give me the artist, song title and song's length in the music app history that was heard during  sessionId = 338, and itemInSession  = 4\n",
    "\n",
    "\n",
    "### 2. Give me only the following: name of artist, song (sorted by itemInSession) and user (first and last name) for userid = 10, sessionid = 182\n",
    "    \n",
    "\n",
    "### 3. Give me every user name (first and last) in my music app history who listened to the song 'All Hands Against His Own'\n",
    "\n",
    "\n"
   ]
  },
  {
   "cell_type": "code",
   "execution_count": 101,
   "metadata": {},
   "outputs": [],
   "source": [
    "## TO-DO: Query 1:  Give me the artist, song title and song's length in the music app history that was heard during \\\n",
    "## sessionId = 338, and itemInSession = 4\n",
    "query_1 = 'CREATE TABLE IF NOT EXISTS music_history'\n",
    "query_1 = query_1 + '(session_id INT,item_session INT, song_title TEXT, artist_name TEXT, song_length FLOAT, PRIMARY KEY(session_id,item_session))'\n",
    "try:\n",
    "    session.execute(query_1)\n",
    "except Exception as e:\n",
    "    print(f'Error is: {e}')"
   ]
  },
  {
   "cell_type": "code",
   "execution_count": 102,
   "metadata": {},
   "outputs": [
    {
     "data": {
      "text/html": [
       "<div>\n",
       "<style scoped>\n",
       "    .dataframe tbody tr th:only-of-type {\n",
       "        vertical-align: middle;\n",
       "    }\n",
       "\n",
       "    .dataframe tbody tr th {\n",
       "        vertical-align: top;\n",
       "    }\n",
       "\n",
       "    .dataframe thead th {\n",
       "        text-align: right;\n",
       "    }\n",
       "</style>\n",
       "<table border=\"1\" class=\"dataframe\">\n",
       "  <thead>\n",
       "    <tr style=\"text-align: right;\">\n",
       "      <th></th>\n",
       "      <th>artist</th>\n",
       "      <th>firstName</th>\n",
       "      <th>gender</th>\n",
       "      <th>itemInSession</th>\n",
       "      <th>lastName</th>\n",
       "      <th>length</th>\n",
       "      <th>level</th>\n",
       "      <th>location</th>\n",
       "      <th>sessionId</th>\n",
       "      <th>song</th>\n",
       "      <th>userId</th>\n",
       "    </tr>\n",
       "  </thead>\n",
       "  <tbody>\n",
       "    <tr>\n",
       "      <th>0</th>\n",
       "      <td>Gustavo Cerati</td>\n",
       "      <td>Adler</td>\n",
       "      <td>M</td>\n",
       "      <td>1</td>\n",
       "      <td>Barrera</td>\n",
       "      <td>249.44281</td>\n",
       "      <td>free</td>\n",
       "      <td>New York-Newark-Jersey City, NY-NJ-PA</td>\n",
       "      <td>248</td>\n",
       "      <td>Uno Entre 1000</td>\n",
       "      <td>100</td>\n",
       "    </tr>\n",
       "    <tr>\n",
       "      <th>1</th>\n",
       "      <td>Limp Bizkit</td>\n",
       "      <td>Adler</td>\n",
       "      <td>M</td>\n",
       "      <td>2</td>\n",
       "      <td>Barrera</td>\n",
       "      <td>270.49751</td>\n",
       "      <td>free</td>\n",
       "      <td>New York-Newark-Jersey City, NY-NJ-PA</td>\n",
       "      <td>248</td>\n",
       "      <td>Behind Blue Eyes</td>\n",
       "      <td>100</td>\n",
       "    </tr>\n",
       "    <tr>\n",
       "      <th>2</th>\n",
       "      <td>Mikel Erentxun</td>\n",
       "      <td>Samuel</td>\n",
       "      <td>M</td>\n",
       "      <td>1</td>\n",
       "      <td>Gonzalez</td>\n",
       "      <td>178.83383</td>\n",
       "      <td>free</td>\n",
       "      <td>Houston-The Woodlands-Sugar Land, TX</td>\n",
       "      <td>252</td>\n",
       "      <td>Frases Mudas</td>\n",
       "      <td>61</td>\n",
       "    </tr>\n",
       "    <tr>\n",
       "      <th>3</th>\n",
       "      <td>The Gerbils</td>\n",
       "      <td>Martin</td>\n",
       "      <td>M</td>\n",
       "      <td>0</td>\n",
       "      <td>Johnson</td>\n",
       "      <td>27.01016</td>\n",
       "      <td>free</td>\n",
       "      <td>Minneapolis-St. Paul-Bloomington, MN-WI</td>\n",
       "      <td>250</td>\n",
       "      <td>(iii)</td>\n",
       "      <td>55</td>\n",
       "    </tr>\n",
       "    <tr>\n",
       "      <th>4</th>\n",
       "      <td>AFI</td>\n",
       "      <td>Martin</td>\n",
       "      <td>M</td>\n",
       "      <td>1</td>\n",
       "      <td>Johnson</td>\n",
       "      <td>190.45832</td>\n",
       "      <td>free</td>\n",
       "      <td>Minneapolis-St. Paul-Bloomington, MN-WI</td>\n",
       "      <td>250</td>\n",
       "      <td>Girl's Not Grey</td>\n",
       "      <td>55</td>\n",
       "    </tr>\n",
       "  </tbody>\n",
       "</table>\n",
       "</div>"
      ],
      "text/plain": [
       "           artist firstName gender  itemInSession  lastName     length level  \\\n",
       "0  Gustavo Cerati     Adler      M              1   Barrera  249.44281  free   \n",
       "1     Limp Bizkit     Adler      M              2   Barrera  270.49751  free   \n",
       "2  Mikel Erentxun    Samuel      M              1  Gonzalez  178.83383  free   \n",
       "3     The Gerbils    Martin      M              0   Johnson   27.01016  free   \n",
       "4             AFI    Martin      M              1   Johnson  190.45832  free   \n",
       "\n",
       "                                  location  sessionId              song  \\\n",
       "0    New York-Newark-Jersey City, NY-NJ-PA        248    Uno Entre 1000   \n",
       "1    New York-Newark-Jersey City, NY-NJ-PA        248  Behind Blue Eyes   \n",
       "2     Houston-The Woodlands-Sugar Land, TX        252      Frases Mudas   \n",
       "3  Minneapolis-St. Paul-Bloomington, MN-WI        250             (iii)   \n",
       "4  Minneapolis-St. Paul-Bloomington, MN-WI        250   Girl's Not Grey   \n",
       "\n",
       "   userId  \n",
       "0     100  \n",
       "1     100  \n",
       "2      61  \n",
       "3      55  \n",
       "4      55  "
      ]
     },
     "execution_count": 102,
     "metadata": {},
     "output_type": "execute_result"
    }
   ],
   "source": [
    "df = pd.read_csv('new_event_data.csv')\n",
    "df.head()"
   ]
  },
  {
   "cell_type": "code",
   "execution_count": 95,
   "metadata": {},
   "outputs": [],
   "source": [
    "# get the data\n",
    "\n",
    "len_=len(df['artist'])\n",
    "for i in range(len_):\n",
    "    print(df.iloc[i][8],df.iloc[i][3],df.iloc[i][9],df.iloc[i][0],df.iloc[i][5])"
   ]
  },
  {
   "cell_type": "code",
   "execution_count": 106,
   "metadata": {},
   "outputs": [],
   "source": [
    "# Insert data for first gtable music_history\n",
    "query_1 = \"INSERT INTO music_history(session_id,item_session,song_title,artist_name,song_length)\"\n",
    "query_1 = query_1 + 'VALUES(%s,%s,%s,%s,%s)'\n",
    "try:\n",
    "    len_=len(df['artist'])\n",
    "    for i in range(len_):\n",
    "        session.execute(query_1,(df.iloc[i][8],df.iloc[i][3],df.iloc[i][9],df.iloc[i][0],df.iloc[i][5]))\n",
    "except Exception as e:\n",
    "    print(f'Error is: {e}')"
   ]
  },
  {
   "cell_type": "code",
   "execution_count": 109,
   "metadata": {},
   "outputs": [
    {
     "name": "stdout",
     "output_type": "stream",
     "text": [
      "Row(artist_name='Faithless', song_title='Music Matters (Mark Knight Dub)', song_length=495.30731201171875)\n"
     ]
    }
   ],
   "source": [
    "# Now validate your insert after runing some query:\n",
    "try:\n",
    "    rows=session.execute('SELECT artist_name,song_title,song_length FROM music_history WHERE session_id = 338 AND item_session = 4')\n",
    "    for row in rows:\n",
    "        print(row)\n",
    "except Exception as e:\n",
    "    print(f'Error is: {e}')"
   ]
  },
  {
   "cell_type": "code",
   "execution_count": 110,
   "metadata": {},
   "outputs": [],
   "source": [
    "## TO-DO: Query 2: Give me only the following: name of artist, song (sorted by itemInSession) and user (first and last name)\\\n",
    "## for userid = 10, sessionid = 182\n",
    "query_2 = 'CREATE TABLE IF NOT EXISTS user_choice'\n",
    "query_2 = query_2 + '(user_id INT,item_session INT, session_id INT, first_name TEXT, last_name TEXT, artist_name TEXT,song_name TEXT, PRIMARY KEY(user_id,session_id,item_session))'\n",
    "try:\n",
    "    session.execute(query_2)\n",
    "except Exception as e:\n",
    "    print(f'Error is: {e}')"
   ]
  },
  {
   "cell_type": "code",
   "execution_count": 111,
   "metadata": {},
   "outputs": [
    {
     "data": {
      "text/html": [
       "<div>\n",
       "<style scoped>\n",
       "    .dataframe tbody tr th:only-of-type {\n",
       "        vertical-align: middle;\n",
       "    }\n",
       "\n",
       "    .dataframe tbody tr th {\n",
       "        vertical-align: top;\n",
       "    }\n",
       "\n",
       "    .dataframe thead th {\n",
       "        text-align: right;\n",
       "    }\n",
       "</style>\n",
       "<table border=\"1\" class=\"dataframe\">\n",
       "  <thead>\n",
       "    <tr style=\"text-align: right;\">\n",
       "      <th></th>\n",
       "      <th>artist</th>\n",
       "      <th>firstName</th>\n",
       "      <th>gender</th>\n",
       "      <th>itemInSession</th>\n",
       "      <th>lastName</th>\n",
       "      <th>length</th>\n",
       "      <th>level</th>\n",
       "      <th>location</th>\n",
       "      <th>sessionId</th>\n",
       "      <th>song</th>\n",
       "      <th>userId</th>\n",
       "    </tr>\n",
       "  </thead>\n",
       "  <tbody>\n",
       "    <tr>\n",
       "      <th>0</th>\n",
       "      <td>Gustavo Cerati</td>\n",
       "      <td>Adler</td>\n",
       "      <td>M</td>\n",
       "      <td>1</td>\n",
       "      <td>Barrera</td>\n",
       "      <td>249.44281</td>\n",
       "      <td>free</td>\n",
       "      <td>New York-Newark-Jersey City, NY-NJ-PA</td>\n",
       "      <td>248</td>\n",
       "      <td>Uno Entre 1000</td>\n",
       "      <td>100</td>\n",
       "    </tr>\n",
       "    <tr>\n",
       "      <th>1</th>\n",
       "      <td>Limp Bizkit</td>\n",
       "      <td>Adler</td>\n",
       "      <td>M</td>\n",
       "      <td>2</td>\n",
       "      <td>Barrera</td>\n",
       "      <td>270.49751</td>\n",
       "      <td>free</td>\n",
       "      <td>New York-Newark-Jersey City, NY-NJ-PA</td>\n",
       "      <td>248</td>\n",
       "      <td>Behind Blue Eyes</td>\n",
       "      <td>100</td>\n",
       "    </tr>\n",
       "    <tr>\n",
       "      <th>2</th>\n",
       "      <td>Mikel Erentxun</td>\n",
       "      <td>Samuel</td>\n",
       "      <td>M</td>\n",
       "      <td>1</td>\n",
       "      <td>Gonzalez</td>\n",
       "      <td>178.83383</td>\n",
       "      <td>free</td>\n",
       "      <td>Houston-The Woodlands-Sugar Land, TX</td>\n",
       "      <td>252</td>\n",
       "      <td>Frases Mudas</td>\n",
       "      <td>61</td>\n",
       "    </tr>\n",
       "    <tr>\n",
       "      <th>3</th>\n",
       "      <td>The Gerbils</td>\n",
       "      <td>Martin</td>\n",
       "      <td>M</td>\n",
       "      <td>0</td>\n",
       "      <td>Johnson</td>\n",
       "      <td>27.01016</td>\n",
       "      <td>free</td>\n",
       "      <td>Minneapolis-St. Paul-Bloomington, MN-WI</td>\n",
       "      <td>250</td>\n",
       "      <td>(iii)</td>\n",
       "      <td>55</td>\n",
       "    </tr>\n",
       "    <tr>\n",
       "      <th>4</th>\n",
       "      <td>AFI</td>\n",
       "      <td>Martin</td>\n",
       "      <td>M</td>\n",
       "      <td>1</td>\n",
       "      <td>Johnson</td>\n",
       "      <td>190.45832</td>\n",
       "      <td>free</td>\n",
       "      <td>Minneapolis-St. Paul-Bloomington, MN-WI</td>\n",
       "      <td>250</td>\n",
       "      <td>Girl's Not Grey</td>\n",
       "      <td>55</td>\n",
       "    </tr>\n",
       "  </tbody>\n",
       "</table>\n",
       "</div>"
      ],
      "text/plain": [
       "           artist firstName gender  itemInSession  lastName     length level  \\\n",
       "0  Gustavo Cerati     Adler      M              1   Barrera  249.44281  free   \n",
       "1     Limp Bizkit     Adler      M              2   Barrera  270.49751  free   \n",
       "2  Mikel Erentxun    Samuel      M              1  Gonzalez  178.83383  free   \n",
       "3     The Gerbils    Martin      M              0   Johnson   27.01016  free   \n",
       "4             AFI    Martin      M              1   Johnson  190.45832  free   \n",
       "\n",
       "                                  location  sessionId              song  \\\n",
       "0    New York-Newark-Jersey City, NY-NJ-PA        248    Uno Entre 1000   \n",
       "1    New York-Newark-Jersey City, NY-NJ-PA        248  Behind Blue Eyes   \n",
       "2     Houston-The Woodlands-Sugar Land, TX        252      Frases Mudas   \n",
       "3  Minneapolis-St. Paul-Bloomington, MN-WI        250             (iii)   \n",
       "4  Minneapolis-St. Paul-Bloomington, MN-WI        250   Girl's Not Grey   \n",
       "\n",
       "   userId  \n",
       "0     100  \n",
       "1     100  \n",
       "2      61  \n",
       "3      55  \n",
       "4      55  "
      ]
     },
     "execution_count": 111,
     "metadata": {},
     "output_type": "execute_result"
    }
   ],
   "source": [
    "df = pd.read_csv('new_event_data.csv')\n",
    "df.head()"
   ]
  },
  {
   "cell_type": "code",
   "execution_count": 114,
   "metadata": {},
   "outputs": [],
   "source": [
    "# Insert data for first gtable music_history\n",
    "query_2 = \"INSERT INTO user_choice(user_id,item_session,session_id,first_name,last_name,artist_name,song_name)\"\n",
    "query_2 = query_2 + 'VALUES(%s,%s,%s,%s,%s,%s,%s)'\n",
    "try:\n",
    "    len_=len(df['artist'])\n",
    "    for i in range(len_):\n",
    "        session.execute(query_2,(df.iloc[i][10],df.iloc[i][3],df.iloc[i][8],df.iloc[i][1],df.iloc[i][4],df.iloc[i][0],df.iloc[i][9]))\n",
    "except Exception as e:\n",
    "    print(f'Error is: {e}')"
   ]
  },
  {
   "cell_type": "code",
   "execution_count": 115,
   "metadata": {},
   "outputs": [
    {
     "name": "stdout",
     "output_type": "stream",
     "text": [
      "Row(artist_name='Down To The Bone', song_name=\"Keep On Keepin' On\", first_name='Sylvie', last_name='Cruz')\n",
      "Row(artist_name='Three Drives', song_name='Greece 2000', first_name='Sylvie', last_name='Cruz')\n",
      "Row(artist_name='Sebastien Tellier', song_name='Kilometer', first_name='Sylvie', last_name='Cruz')\n",
      "Row(artist_name='Lonnie Gordon', song_name='Catch You Baby (Steve Pitron & Max Sanna Radio Edit)', first_name='Sylvie', last_name='Cruz')\n"
     ]
    }
   ],
   "source": [
    "# Now validate your insert after runing some query:\n",
    "try:\n",
    "    rows=session.execute('SELECT artist_name,song_name,first_name,last_name FROM user_choice WHERE user_id = 10 AND session_id = 182')\n",
    "    for row in rows:\n",
    "        print(row)\n",
    "except Exception as e:\n",
    "    print(f'Error is: {e}')"
   ]
  },
  {
   "cell_type": "code",
   "execution_count": 125,
   "metadata": {},
   "outputs": [],
   "source": [
    "## TO-DO: Query 1:  Give me the artist, song title and song's length in the music app history that was heard during \\\n",
    "## sessionId = 338, and itemInSession = 4\n",
    "query_3 = 'CREATE TABLE IF NOT EXISTS music_history_app'\n",
    "query_3 = query_3 + '(session_id INT,item_session INT, song_title TEXT, artist_name TEXT, song_length FLOAT,first_name TEXT,last_name TEXT, PRIMARY KEY(song_title))'\n",
    "try:\n",
    "    session.execute(query_3)\n",
    "except Exception as e:\n",
    "    print(f'Error is: {e}')"
   ]
  },
  {
   "cell_type": "code",
   "execution_count": 126,
   "metadata": {},
   "outputs": [],
   "source": [
    "# Insert data for first gtable music_history\n",
    "query_3 = \"INSERT INTO music_history_app(session_id,item_session,song_title,artist_name,song_length,first_name,last_name)\"\n",
    "query_3 = query_3 + 'VALUES(%s,%s,%s,%s,%s,%s,%s)'\n",
    "try:\n",
    "    len_=len(df['artist'])\n",
    "    for i in range(len_):\n",
    "        session.execute(query_3,(df.iloc[i][8],df.iloc[i][3],df.iloc[i][9],df.iloc[i][0],df.iloc[i][5],df.iloc[i][1],df.iloc[i][4]))\n",
    "except Exception as e:\n",
    "    print(f'Error is: {e}')"
   ]
  },
  {
   "cell_type": "code",
   "execution_count": 127,
   "metadata": {},
   "outputs": [
    {
     "name": "stdout",
     "output_type": "stream",
     "text": [
      "Row(artist_name='The Black Keys', song_title='All Hands Against His Own', song_length=196.9105682373047, first_name='Tegan', last_name='Levine')\n"
     ]
    }
   ],
   "source": [
    "# Now validate your insert after runing some query:\n",
    "try:\n",
    "    rows=session.execute(\"SELECT artist_name,song_title,song_length,first_name,last_name FROM music_history_app WHERE song_title='All Hands Against His Own'\")\n",
    "    for row in rows:\n",
    "        print(row)\n",
    "except Exception as e:\n",
    "    print(f'Error is: {e}')"
   ]
  },
  {
   "cell_type": "code",
   "execution_count": 128,
   "metadata": {},
   "outputs": [],
   "source": [
    "session.shutdown()\n",
    "cluster.shutdown()"
   ]
  }
 ],
 "metadata": {
  "kernelspec": {
   "display_name": "Python 3",
   "language": "python",
   "name": "python3"
  },
  "language_info": {
   "codemirror_mode": {
    "name": "ipython",
    "version": 3
   },
   "file_extension": ".py",
   "mimetype": "text/x-python",
   "name": "python",
   "nbconvert_exporter": "python",
   "pygments_lexer": "ipython3",
   "version": "3.7.6"
  }
 },
 "nbformat": 4,
 "nbformat_minor": 4
}
